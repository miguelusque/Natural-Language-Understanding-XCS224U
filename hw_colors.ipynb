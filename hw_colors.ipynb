{
 "cells": [
  {
   "cell_type": "markdown",
   "metadata": {},
   "source": [
    "# Homework and bake-off: pragmatic color descriptions"
   ]
  },
  {
   "cell_type": "code",
   "execution_count": 1,
   "metadata": {},
   "outputs": [],
   "source": [
    "__author__ = \"Christopher Potts\"\n",
    "__version__ = \"CS224u, Stanford, Summer 2021\""
   ]
  },
  {
   "cell_type": "markdown",
   "metadata": {},
   "source": [
    "## Contents\n",
    "\n",
    "1. [Overview](#Overview)\n",
    "1. [Set-up](#Set-up)\n",
    "1. [All two-word examples as a dev corpus](#All-two-word-examples-as-a-dev-corpus)\n",
    "1. [Dev dataset](#Dev-dataset)\n",
    "1. [Random train–test split for development](#Random-train–test-split-for-development)\n",
    "1. [Question 1: Improve the tokenizer [1 point]](#Question-1:-Improve-the-tokenizer-[1-point])\n",
    "1. [Use the tokenizer](#Use-the-tokenizer)\n",
    "1. [Question 2: Improve the color representations [1 point]](#Question-2:-Improve-the-color-representations-[1-point])\n",
    "1. [Use the color representer](#Use-the-color-representer)\n",
    "1. [Initial model](#Initial-model)\n",
    "1. [Question 3: GloVe embeddings [1 point]](#Question-3:-GloVe-embeddings-[1-point])\n",
    "1. [Try the GloVe representations](#Try-the-GloVe-representations)\n",
    "1. [Question 4: Color context [3 points]](#Question-4:-Color-context-[3-points])\n",
    "1. [Your original system [3 points]](#Your-original-system-[3-points])\n",
    "1. [Bakeoff [1 point]](#Bakeoff-[1-point])\n",
    "1. [Submission Instruction](#Submission-Instruction)"
   ]
  },
  {
   "cell_type": "markdown",
   "metadata": {},
   "source": [
    "## Overview\n",
    "\n",
    "This homework and associated bake-off are oriented toward building an effective system for generating color descriptions that are pragmatic in the sense that they would help a reader/listener figure out which color was being referred to in a shared context consisting of a target color (whose identity is known only to the describer/speaker) and a set of distractors.\n",
    "\n",
    "The notebook [colors_overview.ipynb](colors_overview.ipynb) should be studied before work on this homework begins. That notebook provides backgroud on the task, the dataset, and the modeling code that you will be using and adapting.\n",
    "\n",
    "The homework questions are more open-ended than previous ones have been. Rather than asking you to implement pre-defined functionality, they ask you to try to improve baseline components of the full system in ways that you find to be effective. As usual, this culminates in a prompt asking you to develop a novel system for entry into the bake-off. In this case, though, the work you do for the homework will likely be directly incorporated into that system (not required, but an efficient way to work at the very least)."
   ]
  },
  {
   "cell_type": "markdown",
   "metadata": {},
   "source": [
    "## Set-up"
   ]
  },
  {
   "cell_type": "markdown",
   "metadata": {},
   "source": [
    "See [colors_overview.ipynb](colors_overview.ipynb) for set-up in instructions and other background details."
   ]
  },
  {
   "cell_type": "code",
   "execution_count": 2,
   "metadata": {},
   "outputs": [],
   "source": [
    "from colors import ColorsCorpusReader\n",
    "from nltk.translate.bleu_score import corpus_bleu\n",
    "import numpy as np\n",
    "import os\n",
    "import pandas as pd\n",
    "from sklearn.model_selection import train_test_split\n",
    "from torch_color_describer import ContextualColorDescriber\n",
    "from torch_color_describer import create_example_dataset\n",
    "\n",
    "import utils\n",
    "from utils import START_SYMBOL, END_SYMBOL, UNK_SYMBOL"
   ]
  },
  {
   "cell_type": "code",
   "execution_count": 3,
   "metadata": {},
   "outputs": [],
   "source": [
    "utils.fix_random_seeds()"
   ]
  },
  {
   "cell_type": "code",
   "execution_count": 4,
   "metadata": {},
   "outputs": [],
   "source": [
    "COLORS_SRC_FILENAME = os.path.join(\n",
    "    \"data\", \"colors\", \"filteredCorpus.csv\")"
   ]
  },
  {
   "cell_type": "markdown",
   "metadata": {},
   "source": [
    "## All two-word examples as a dev corpus\n",
    "\n",
    "So that you don't have to sit through excessively long training runs during development, I suggest working with the two-word-only subset of the corpus until you enter into the late stages of system testing."
   ]
  },
  {
   "cell_type": "code",
   "execution_count": 5,
   "metadata": {},
   "outputs": [],
   "source": [
    "dev_corpus = ColorsCorpusReader(\n",
    "    COLORS_SRC_FILENAME,\n",
    "    word_count=2,\n",
    "    normalize_colors=True)"
   ]
  },
  {
   "cell_type": "code",
   "execution_count": 6,
   "metadata": {},
   "outputs": [],
   "source": [
    "dev_examples = list(dev_corpus.read())"
   ]
  },
  {
   "cell_type": "markdown",
   "metadata": {},
   "source": [
    "This subset has about one-third the examples of the full corpus:"
   ]
  },
  {
   "cell_type": "code",
   "execution_count": 7,
   "metadata": {},
   "outputs": [
    {
     "data": {
      "text/plain": [
       "13890"
      ]
     },
     "execution_count": 7,
     "metadata": {},
     "output_type": "execute_result"
    }
   ],
   "source": [
    "len(dev_examples)"
   ]
  },
  {
   "cell_type": "markdown",
   "metadata": {},
   "source": [
    "We __should__ worry that it's not a fully representative sample. Most of the descriptions in the full corpus are shorter, and a large proportion are longer. So this dataset is mainly for debugging, development, and general hill-climbing. All findings should be validated on the full dataset at some point."
   ]
  },
  {
   "cell_type": "markdown",
   "metadata": {},
   "source": [
    "## Dev dataset\n",
    "\n",
    "The first step is to extract the raw color and raw texts from the corpus:"
   ]
  },
  {
   "cell_type": "code",
   "execution_count": 8,
   "metadata": {},
   "outputs": [],
   "source": [
    "dev_rawcols, dev_texts = zip(*[[ex.colors, ex.contents] for ex in dev_examples])"
   ]
  },
  {
   "cell_type": "markdown",
   "metadata": {},
   "source": [
    "The raw color representations are suitable inputs to a model, but the texts are just strings, so they can't really be processed as-is. Question 1 asks you to do some tokenizing!"
   ]
  },
  {
   "cell_type": "markdown",
   "metadata": {},
   "source": [
    "## Random train–test split for development\n",
    "\n",
    "For the sake of development runs, we create a random train–test split:"
   ]
  },
  {
   "cell_type": "code",
   "execution_count": 9,
   "metadata": {},
   "outputs": [],
   "source": [
    "dev_rawcols_train, dev_rawcols_test, dev_texts_train, dev_texts_test = \\\n",
    "    train_test_split(dev_rawcols, dev_texts)"
   ]
  },
  {
   "cell_type": "markdown",
   "metadata": {},
   "source": [
    "## Question 1: Improve the tokenizer [1 point]\n",
    "\n",
    "This is the first required question – the first required modification to the default pipeline.\n",
    "\n",
    "The function `tokenize_example` simply splits its string on whitespace and adds the required start and end symbols:"
   ]
  },
  {
   "cell_type": "code",
   "execution_count": 10,
   "metadata": {},
   "outputs": [],
   "source": [
    "def tokenize_example(s):\n",
    "    import re\n",
    "\n",
    "    # Below, I have performed performed some operations to the string.\n",
    "    # The objective was to reduce the total number of unique tokens in my dataset.\n",
    "    # For example, I have managed to reduce the number of unique token of `dev_texts_train` from 1438 to 948.\n",
    "    # My assumption is that having a smaller/cleaner vocabulary will improve model accuracy.    \n",
    " \n",
    "    # Step 1. Remove consecutive duplicated characters from 'text', trying to represent with the \n",
    "    # same token multiple texts with similar spellings.I am aware that this transformation is\n",
    "    # not perfect, and which might lead that some tokens that are different to finish represented\n",
    "    # in a similar way, but I will prioritise that some expressions could be grouped in a single token.\n",
    "    if not s: return s # Return s if empty\n",
    "\n",
    "    result = ''\n",
    "    # loop to check for each character\n",
    "    for i in range(1, len(s)):  \n",
    "        if s[i - 1] !=  s[i]:\n",
    "            result += s[i - 1]\n",
    "    result += s[-1] \n",
    "    \n",
    "    # Step 2: Split compound words\n",
    "    result = result.replace(\"-\", \" \").replace(\"/\", \" \")\n",
    "    \n",
    "    # Step 3: Remove puntuation chars \n",
    "    result = re.sub(r'[^\\w\\s]','', result)\n",
    "    \n",
    "    # Step 4: Lowercase words and split the sentence into a list\n",
    "    result = result.lower().split()\n",
    "    \n",
    "    # Step 5: Add START_SYMBOL/END_SYMBOL at the beginning/end respectively\n",
    "    return [START_SYMBOL] + result + [END_SYMBOL]"
   ]
  },
  {
   "cell_type": "code",
   "execution_count": 11,
   "metadata": {},
   "outputs": [
    {
     "data": {
      "text/plain": [
       "['<s>', 'aqua', 'teal', '</s>']"
      ]
     },
     "execution_count": 11,
     "metadata": {},
     "output_type": "execute_result"
    }
   ],
   "source": [
    "tokenize_example(dev_texts_train[376])"
   ]
  },
  {
   "cell_type": "markdown",
   "metadata": {},
   "source": [
    "__Your task__: Modify `tokenize_example` so that it does something more sophisticated with the input text. \n",
    "\n",
    "__Notes__:\n",
    "\n",
    "* There are useful ideas for this in [Monroe et al. 2017](https://transacl.org/ojs/index.php/tacl/article/view/1142)\n",
    "* There is no requirement that you do word-level tokenization. Sub-word and multi-word are options.\n",
    "* This question can interact with the size of your vocabulary (see just below), and in turn with decisions about how to use `UNK_SYMBOL`.\n",
    "\n",
    "__Important__: don't forget to add the start and end symbols, else the resulting models will definitely be terrible! The following test will check that your tokenizer has this property:"
   ]
  },
  {
   "cell_type": "code",
   "execution_count": 12,
   "metadata": {},
   "outputs": [],
   "source": [
    "def test_tokenize_example(func):\n",
    "    s = \"A test string\"\n",
    "    result = func(s)\n",
    "    assert all(isinstance(tok, str) for tok in result), \\\n",
    "        \"The tokenizer must return a list of strings.\"\n",
    "    assert result[0] == START_SYMBOL, \\\n",
    "        \"The tokenizer must add START_SYMBOL as the first token.\"\n",
    "    assert result[-1] == END_SYMBOL, \\\n",
    "        \"The tokenizer must add END_SYMBOL as the final token.\""
   ]
  },
  {
   "cell_type": "code",
   "execution_count": 13,
   "metadata": {},
   "outputs": [],
   "source": [
    "if 'IS_GRADESCOPE_ENV' not in os.environ:\n",
    "    test_tokenize_example(tokenize_example)"
   ]
  },
  {
   "cell_type": "markdown",
   "metadata": {},
   "source": [
    "## Use the tokenizer"
   ]
  },
  {
   "cell_type": "markdown",
   "metadata": {},
   "source": [
    "Once the tokenizer is working, run the following cell to tokenize your inputs:"
   ]
  },
  {
   "cell_type": "code",
   "execution_count": 14,
   "metadata": {},
   "outputs": [],
   "source": [
    "dev_seqs_train = [tokenize_example(s) for s in dev_texts_train]\n",
    "\n",
    "dev_seqs_test = [tokenize_example(s) for s in dev_texts_test]"
   ]
  },
  {
   "cell_type": "markdown",
   "metadata": {},
   "source": [
    "We use only the train set to derive a vocabulary for the model:"
   ]
  },
  {
   "cell_type": "code",
   "execution_count": 15,
   "metadata": {},
   "outputs": [],
   "source": [
    "dev_vocab = sorted({w for toks in dev_seqs_train for w in toks})\n",
    "\n",
    "dev_vocab += [UNK_SYMBOL]"
   ]
  },
  {
   "cell_type": "markdown",
   "metadata": {},
   "source": [
    "It's important that the `UNK_SYMBOL` is included somewhere in this list. In test examples, words not seen in training will be mapped to `UNK_SYMBOL`. \n",
    "\n",
    "Conceptual note: If you model's vocab is the same as your train vocab, then `UNK_SYMBOL` will never be encountered during training, so it will be a random vector at test time."
   ]
  },
  {
   "cell_type": "code",
   "execution_count": 16,
   "metadata": {},
   "outputs": [
    {
     "data": {
      "text/plain": [
       "949"
      ]
     },
     "execution_count": 16,
     "metadata": {},
     "output_type": "execute_result"
    }
   ],
   "source": [
    "len(dev_vocab)"
   ]
  },
  {
   "cell_type": "markdown",
   "metadata": {},
   "source": [
    "## Question 2: Improve the color representations [1 point]\n",
    "\n",
    "This is the second required pipeline improvement for the assignment. \n",
    "\n",
    "The following functions do nothing at all to the raw input colors we get from the corpus. "
   ]
  },
  {
   "cell_type": "code",
   "execution_count": 17,
   "metadata": {},
   "outputs": [],
   "source": [
    "def represent_color_context(colors):\n",
    "    return [represent_color(color) for color in colors]\n",
    "\n",
    "def represent_color(color):\n",
    "    # Let's convert first from HSL (normalized) to HSV as detailed here:\n",
    "    # https://en.wikipedia.org/wiki/HSL_and_HSV#HSL_to_HSV\n",
    "    # H = color[0], S = color[1], L = color[2]\n",
    "    # Please, notice the slack discussion about if we should normalize \n",
    "    # HSV to [0,360], [0,200], [0, 200] before aplying the Fourier transformation.\n",
    "    # Unfortunately, I didn't receive yet a definitive answer, so I have decided\n",
    "    # to stick with my hypotesis (no normalization is needed if we load the colors\n",
    "    # with 'normalize_colors=True'. I hope it doesn't disqualify this implementation,\n",
    "    # considering it is trivial to scale from [0,1] to [0,360] or [0,200] by just\n",
    "    # multiplying by 360 or 200 respectively. Thank you for your comprehension).\n",
    "    # https://xcs224u-scpd.slack.com/archives/C02C7NBT3BJ/p1632173209038000\n",
    "    import cmath\n",
    "    from itertools import product\n",
    "\n",
    "    # HSL to HSV in the range [0.1]\n",
    "    h = color[0]\n",
    "    v = color[2] + color[1] * min(color[2], 1 - color[2])\n",
    "    s = 0. if v == 0 else 2 * (1 - color[2]/v)\n",
    "\n",
    "    # Fourier transform    \n",
    "    f = []\n",
    "    f_hat_imag = []\n",
    "    for i, k, l in product((0, 1, 2), repeat=3):\n",
    "        f_hat_ikl = cmath.exp(-2j*cmath.pi*(i*h + k*s + l*v))\n",
    "        f.append(f_hat_ikl.real)\n",
    "        f_hat_imag.append(f_hat_ikl.imag)\n",
    "    f.extend(f_hat_imag)\n",
    "    \n",
    "    return f"
   ]
  },
  {
   "cell_type": "code",
   "execution_count": 18,
   "metadata": {},
   "outputs": [
    {
     "data": {
      "text/plain": [
       "[[1.0,\n",
       "  -0.18738131458572463,\n",
       "  -0.9297764858882515,\n",
       "  -0.4999999999999996,\n",
       "  -0.7569950556517562,\n",
       "  0.7836934573258406,\n",
       "  -0.5000000000000008,\n",
       "  0.9443763702374804,\n",
       "  0.1460830285624107,\n",
       "  0.7986355100472928,\n",
       "  -0.7408045962867501,\n",
       "  -0.5210096318405756,\n",
       "  -0.9205048534524398,\n",
       "  -0.21132479645538732,\n",
       "  0.9997014897811831,\n",
       "  0.12186934340514753,\n",
       "  0.9521293927421389,\n",
       "  -0.4786918579406068,\n",
       "  0.27563735581699916,\n",
       "  -0.9958843986159704,\n",
       "  0.09758289975914951,\n",
       "  -0.9702957262759966,\n",
       "  0.41945208244617754,\n",
       "  0.8131007610470268,\n",
       "  0.6946583704589955,\n",
       "  0.5764323161697946,\n",
       "  -0.9106836608061782,\n",
       "  0.0,\n",
       "  0.9822872507286887,\n",
       "  -0.368124552684678,\n",
       "  0.8660254037844388,\n",
       "  -0.6534206039901058,\n",
       "  -0.6211477802783093,\n",
       "  -0.8660254037844383,\n",
       "  -0.3288666467385849,\n",
       "  0.9892723329629884,\n",
       "  0.6018150231520483,\n",
       "  0.6717205893229902,\n",
       "  -0.8535507972753279,\n",
       "  0.39073112848927494,\n",
       "  -0.9774158942860962,\n",
       "  -0.02443217815265445,\n",
       "  -0.992546151641322,\n",
       "  0.3056953049631049,\n",
       "  0.8779829754279805,\n",
       "  0.9612616959383189,\n",
       "  0.09063258019777923,\n",
       "  -0.9952273999818312,\n",
       "  -0.24192189559966734,\n",
       "  -0.9077774785329085,\n",
       "  0.5821229701572905,\n",
       "  -0.719339800338653,\n",
       "  0.8171448983351275,\n",
       "  0.41310442982453927],\n",
       " [1.0,\n",
       "  0.30901699437494723,\n",
       "  -0.8090169943749477,\n",
       "  -1.0,\n",
       "  -0.3090169943749488,\n",
       "  0.8090169943749457,\n",
       "  1.0,\n",
       "  0.3090169943749504,\n",
       "  -0.8090169943749457,\n",
       "  1.0,\n",
       "  0.30901699437494723,\n",
       "  -0.8090169943749477,\n",
       "  -1.0,\n",
       "  -0.3090169943749488,\n",
       "  0.8090169943749457,\n",
       "  1.0,\n",
       "  0.3090169943749504,\n",
       "  -0.8090169943749457,\n",
       "  1.0,\n",
       "  0.30901699437494723,\n",
       "  -0.8090169943749477,\n",
       "  -1.0,\n",
       "  -0.3090169943749488,\n",
       "  0.8090169943749457,\n",
       "  1.0,\n",
       "  0.3090169943749504,\n",
       "  -0.8090169943749457,\n",
       "  0.0,\n",
       "  0.9510565162951536,\n",
       "  0.5877852522924728,\n",
       "  1.2098029496354525e-15,\n",
       "  -0.9510565162951531,\n",
       "  -0.5877852522924756,\n",
       "  -2.419605899270905e-15,\n",
       "  0.9510565162951526,\n",
       "  0.5877852522924755,\n",
       "  0.0,\n",
       "  0.9510565162951536,\n",
       "  0.5877852522924728,\n",
       "  1.2098029496354525e-15,\n",
       "  -0.9510565162951531,\n",
       "  -0.5877852522924756,\n",
       "  -2.419605899270905e-15,\n",
       "  0.9510565162951526,\n",
       "  0.5877852522924755,\n",
       "  0.0,\n",
       "  0.9510565162951536,\n",
       "  0.5877852522924728,\n",
       "  1.2098029496354525e-15,\n",
       "  -0.9510565162951531,\n",
       "  -0.5877852522924756,\n",
       "  -2.419605899270905e-15,\n",
       "  0.9510565162951526,\n",
       "  0.5877852522924755],\n",
       " [1.0,\n",
       "  0.7289686274214116,\n",
       "  0.06279051952931353,\n",
       "  -0.5000000000000012,\n",
       "  0.22835087011065458,\n",
       "  0.8329212407100989,\n",
       "  -0.49999999999999767,\n",
       "  -0.9573194975320668,\n",
       "  -0.8957117602394139,\n",
       "  0.6819983600624986,\n",
       "  0.99780146829205,\n",
       "  0.7727335734973513,\n",
       "  -0.9743700647852357,\n",
       "  -0.5562956155003056,\n",
       "  0.16332596224162052,\n",
       "  0.29237170472273827,\n",
       "  -0.4415058527917431,\n",
       "  -0.9360595357389728,\n",
       "  -0.06975647374412494,\n",
       "  0.6320293026648506,\n",
       "  0.9912155402515416,\n",
       "  -0.8290375725550412,\n",
       "  -0.9871362650729879,\n",
       "  -0.6101451639012709,\n",
       "  0.8987940462991688,\n",
       "  0.35510696240813827,\n",
       "  -0.38107037635027224,\n",
       "  0.0,\n",
       "  -0.6845471059286886,\n",
       "  -0.9980267284282716,\n",
       "  0.8660254037844379,\n",
       "  0.9735789028731605,\n",
       "  0.553391549243345,\n",
       "  -0.86602540378444,\n",
       "  -0.2890317969444732,\n",
       "  0.44463517918492534,\n",
       "  0.7313537016191703,\n",
       "  0.0662739004000007,\n",
       "  -0.6347305132022673,\n",
       "  0.224951054343863,\n",
       "  0.8309844692743277,\n",
       "  0.9865721616069697,\n",
       "  -0.956304755963035,\n",
       "  -0.8972583696743295,\n",
       "  -0.35184164840470306,\n",
       "  0.9975640502598243,\n",
       "  0.7749444887041799,\n",
       "  0.13225639025712355,\n",
       "  -0.5591929034707477,\n",
       "  0.1598811876918349,\n",
       "  0.7922896433551881,\n",
       "  -0.43837114678907374,\n",
       "  -0.934825676396014,\n",
       "  -0.9245460336123139]]"
      ]
     },
     "execution_count": 18,
     "metadata": {},
     "output_type": "execute_result"
    }
   ],
   "source": [
    "represent_color_context(dev_rawcols_train[2])"
   ]
  },
  {
   "cell_type": "markdown",
   "metadata": {},
   "source": [
    "__Your task__: Modify `represent_color_context` and/or `represent_color` to represent colors in a new way.\n",
    "    \n",
    "__Notes__:\n",
    "\n",
    "* You are not required to keep `represent_color`. This might be unnatural if you want to perform an operation on each color trio all at once.\n",
    "* For that matter, if you want to process all of the color contexts in the entire data set all at once, that is fine too, as long as you can also perform the operation at test time with an unknown number of examples being tested.\n",
    "\n",
    "* The Fourier-transform method of [Monroe et al. 2016](https://www.aclweb.org/anthology/D16-1243/) and [Monroe et al. 2017](https://transacl.org/ojs/index.php/tacl/article/view/1142) is a proven choice for our task. __It is not required that you implement this.__ However, if you decide to, you might find that the overly terse presentation in the paper is an obstacle. They key thing to see is that the notation $\\hat{f}_{jkl}$ is meant to specify a full coordinate system. Thus, you might do something like\n",
    "\n",
    "  ```\n",
    "from itertools import product\n",
    "for j, k, l in product((0, 1, 2), repeat=3):    \n",
    "    f_jkl = ...\n",
    "```\n",
    "\n",
    "  and collect these `f_jkl` values in a list of 27 values. Additionally, in Python, [`2j` produces a value with `real` and `imag` attributes](https://docs.python.org/3.7/library/cmath.html). Each element `f_jkl` should have these components. If you concatenate the `real` and `imag` parts of all the `f_jkl`, you will have a 54-dimensional representation, as in the paper. Remember to start with an HSV representation, and with $h$ in $[0, 360]$, $s$ in $[0, 200]$, and $v$ in $[0, 200]$ (or else do the scaling differently). Note that the values in our corpus are in HLS format, [which are easily converted to HSV](https://en.wikipedia.org/wiki/HSL_and_HSV#HSL_to_HSV).\n",
    "  \n",
    "* It's natural to ask why this Fourier transform is useful in the current context. This is a challenging question, and I don't have a complete answer, but here is an intuitive observation: if you consider the raw color representations to be embeddings, then you can see very quickly that our standard geometric notions are totally out of line with our intuitions about the colors themselves. For example, here is a plot where we simply vary the hue dimension while keeping the other dimensions constant:\n",
    "\n",
    "  <img src=\"fig/colors-hue-hls.png\" alt=\"A series of very different colors with cosine distances from orange ranging from 0 to 0.19\" />\n",
    "\n",
    "  I've printed the cosine distances from the leftmost color above each patch. They all look pretty similar. Now, you might say, well at least the distances are sort of proportional to how different the colors are from the first. However, that argument seems to crumble when we do the same experiment but now varying the saturation dimension:\n",
    "\n",
    "  <img src=\"fig/colors-saturation-hls.png\" alt=\"A series of very similar purple-ish colors with cosine distances from gray-purple ranging from 0 to 0.19\" />\n",
    "\n",
    "  These colors are all quite simular intuitively. Notice, though, that the cosine distances are identical to my first plot. Of course! Cosine distances doesn't care about the nature of these dimensions! The underlying color space is a cylinder, not a regular Euclidean 3d space!\n",
    "  \n",
    "  The Fourier transformation that we apply is remapping the colors into approximately the cylindrical space that we want. It is at least capturing some the circular/radial relationships that are inherent in the space. Thus, here are plots corresponding to the above, but now where the colors have been transformed for the cosine comparisons. \n",
    "  \n",
    "  First, the hue variation:\n",
    "  \n",
    "  <img src=\"fig/colors-hue-fourier.png\" alt=\"A series of very different colors with cosine distances from orange that are generally large (near 1.0)\" />\n",
    "\n",
    "  And then saturation:\n",
    "  \n",
    "  <img src=\"fig/colors-saturation-fourier.png\" alt=\"A series of very similar purple-ish colors with cosine distances from gray purple that seem aligned with visual color similarity\" />\n",
    "  \n",
    "  These distances seem much better aligned with intuitions to me, and I think that's quite general. Thus, even if our networks can in principle learn this remapping, it's very helpful to at least start them closer to where we want them to be.\n",
    "  \n",
    "  If you want to go one layer deeper, then the [Zhang and Lu 2002](https://www.sciencedirect.com/science/article/pii/S092359650200084X) paper that Monroe et al. 2016 cite is pretty intuitive. It's for the 2d case, but that actually makes the ideas somewhere more accessible, since they can easily plot the original and remapped feature spaces."
   ]
  },
  {
   "cell_type": "markdown",
   "metadata": {},
   "source": [
    "The following test seeks to ensure only that the output of your `represent_color_context` will be compatible with the models we are creating:"
   ]
  },
  {
   "cell_type": "code",
   "execution_count": 19,
   "metadata": {},
   "outputs": [],
   "source": [
    "def test_represent_color_context(func):\n",
    "    \"\"\"`func` should be `represent_color_context`\"\"\"\n",
    "    example = [\n",
    "        [0.786, 0.58, 0.87],\n",
    "        [0.689, 0.44, 0.92],\n",
    "        [0.628, 0.32, 0.81]]\n",
    "    result = func(example)\n",
    "    assert len(result) == len(example), \\\n",
    "        (\"Color context representations need to represent each color \"\n",
    "         \"separately. (We assume the final color is the target.)\")\n",
    "    for i, color in enumerate(result):\n",
    "        assert all(isinstance(x, float) for x in color), \\\n",
    "            (\"All color representations should be lists of floats. \"\n",
    "             \"Color {} is {}\".format(i, color))"
   ]
  },
  {
   "cell_type": "code",
   "execution_count": 20,
   "metadata": {},
   "outputs": [],
   "source": [
    "if 'IS_GRADESCOPE_ENV' not in os.environ:\n",
    "    test_represent_color_context(represent_color_context)"
   ]
  },
  {
   "cell_type": "markdown",
   "metadata": {},
   "source": [
    "## Use the color representer"
   ]
  },
  {
   "cell_type": "markdown",
   "metadata": {},
   "source": [
    "The following cell just runs your `represent_color_context` on the train and test sets:"
   ]
  },
  {
   "cell_type": "code",
   "execution_count": 21,
   "metadata": {},
   "outputs": [],
   "source": [
    "dev_cols_train = [represent_color_context(colors) for colors in dev_rawcols_train]\n",
    "\n",
    "dev_cols_test = [represent_color_context(colors) for colors in dev_rawcols_test]"
   ]
  },
  {
   "cell_type": "markdown",
   "metadata": {},
   "source": [
    "At this point, our preprocessing steps are complete, and we can fit a first model."
   ]
  },
  {
   "cell_type": "markdown",
   "metadata": {},
   "source": [
    "## Initial model\n",
    "\n",
    "The first model is configured right now to be a small model run for just a few iterations. It should be enough to get traction, but it's unlikely to be a great model. You are free to modify this configuration if you wish; it is here just for demonstration and testing:"
   ]
  },
  {
   "cell_type": "code",
   "execution_count": 22,
   "metadata": {},
   "outputs": [],
   "source": [
    "dev_mod = ContextualColorDescriber(\n",
    "    dev_vocab,\n",
    "    early_stopping=True)"
   ]
  },
  {
   "cell_type": "code",
   "execution_count": 23,
   "metadata": {},
   "outputs": [
    {
     "name": "stderr",
     "output_type": "stream",
     "text": [
      "Stopping after epoch 90. Validation score did not improve by tol=1e-05 for more than 10 epochs. Final error is 30.38689160346985"
     ]
    },
    {
     "name": "stdout",
     "output_type": "stream",
     "text": [
      "CPU times: user 30min 6s, sys: 2min 8s, total: 32min 15s\n",
      "Wall time: 4min 27s\n"
     ]
    }
   ],
   "source": [
    "if 'IS_GRADESCOPE_ENV' not in os.environ:\n",
    "    %time _ = dev_mod.fit(dev_cols_train, dev_seqs_train)\n",
    "else:\n",
    "    dev_mod.fit(dev_cols_train, dev_seqs_train)"
   ]
  },
  {
   "cell_type": "markdown",
   "metadata": {},
   "source": [
    "The canonical bake-off evaluation function is `evaluate`. Our primary metric is `listener_accuracy`; the BLEU score is included as a check to ensure that your system is speaking English!"
   ]
  },
  {
   "cell_type": "code",
   "execution_count": 24,
   "metadata": {},
   "outputs": [],
   "source": [
    "evaluation = dev_mod.evaluate(dev_cols_test, dev_seqs_test)"
   ]
  },
  {
   "cell_type": "code",
   "execution_count": 25,
   "metadata": {},
   "outputs": [
    {
     "data": {
      "text/plain": [
       "dict_keys(['listener_accuracy', 'corpus_bleu', 'target_index', 'predicted_index', 'predicted_utterance'])"
      ]
     },
     "execution_count": 25,
     "metadata": {},
     "output_type": "execute_result"
    }
   ],
   "source": [
    "evaluation.keys()"
   ]
  },
  {
   "cell_type": "code",
   "execution_count": 26,
   "metadata": {},
   "outputs": [
    {
     "data": {
      "text/plain": [
       "0.7805931471350418"
      ]
     },
     "execution_count": 26,
     "metadata": {},
     "output_type": "execute_result"
    }
   ],
   "source": [
    "evaluation['listener_accuracy']"
   ]
  },
  {
   "cell_type": "code",
   "execution_count": 27,
   "metadata": {},
   "outputs": [
    {
     "data": {
      "text/plain": [
       "0.7805931471350418"
      ]
     },
     "execution_count": 27,
     "metadata": {},
     "output_type": "execute_result"
    }
   ],
   "source": [
    "dev_mod.listener_accuracy(dev_cols_test, dev_seqs_test)"
   ]
  },
  {
   "cell_type": "code",
   "execution_count": 28,
   "metadata": {},
   "outputs": [
    {
     "data": {
      "text/plain": [
       "0.691886962260811"
      ]
     },
     "execution_count": 28,
     "metadata": {},
     "output_type": "execute_result"
    }
   ],
   "source": [
    "evaluation['corpus_bleu']"
   ]
  },
  {
   "cell_type": "code",
   "execution_count": 29,
   "metadata": {},
   "outputs": [
    {
     "data": {
      "text/plain": [
       "0.691886962260811"
      ]
     },
     "execution_count": 29,
     "metadata": {},
     "output_type": "execute_result"
    }
   ],
   "source": [
    "bleu, predicted_utterances = dev_mod.corpus_bleu(dev_cols_test, dev_seqs_test)\n",
    "\n",
    "bleu"
   ]
  },
  {
   "cell_type": "code",
   "execution_count": 30,
   "metadata": {},
   "outputs": [
    {
     "data": {
      "text/plain": [
       "[2, 2, 2, 2, 2]"
      ]
     },
     "execution_count": 30,
     "metadata": {},
     "output_type": "execute_result"
    }
   ],
   "source": [
    "evaluation['target_index'][: 5]"
   ]
  },
  {
   "cell_type": "code",
   "execution_count": 31,
   "metadata": {},
   "outputs": [
    {
     "data": {
      "text/plain": [
       "[0, 0, 2, 0, 2]"
      ]
     },
     "execution_count": 31,
     "metadata": {},
     "output_type": "execute_result"
    }
   ],
   "source": [
    "evaluation['predicted_index'][: 5]"
   ]
  },
  {
   "cell_type": "code",
   "execution_count": 32,
   "metadata": {},
   "outputs": [
    {
     "data": {
      "text/plain": [
       "[['<s>', 'bright', 'purple', '</s>'],\n",
       " ['<s>', 'yelow', 'gren', '</s>'],\n",
       " ['<s>', 'dul', 'pink', '</s>'],\n",
       " ['<s>', 'bright', 'pink', '</s>'],\n",
       " ['<s>', 'bright', 'gren', '</s>']]"
      ]
     },
     "execution_count": 32,
     "metadata": {},
     "output_type": "execute_result"
    }
   ],
   "source": [
    "evaluation['predicted_utterance'][: 5]"
   ]
  },
  {
   "cell_type": "markdown",
   "metadata": {},
   "source": [
    "We can also see the model's predicted sequences given color context inputs:"
   ]
  },
  {
   "cell_type": "code",
   "execution_count": 33,
   "metadata": {},
   "outputs": [
    {
     "data": {
      "text/plain": [
       "[['<s>', 'bright', 'purple', '</s>']]"
      ]
     },
     "execution_count": 33,
     "metadata": {},
     "output_type": "execute_result"
    }
   ],
   "source": [
    "dev_mod.predict(dev_cols_test[: 1])"
   ]
  },
  {
   "cell_type": "code",
   "execution_count": 34,
   "metadata": {},
   "outputs": [
    {
     "data": {
      "text/plain": [
       "[['<s>', 'right', 'side', 'purple', 'pinkish', '</s>']]"
      ]
     },
     "execution_count": 34,
     "metadata": {},
     "output_type": "execute_result"
    }
   ],
   "source": [
    "dev_seqs_test[: 1]"
   ]
  },
  {
   "cell_type": "markdown",
   "metadata": {},
   "source": [
    "## Question 3: GloVe embeddings [1 point]\n",
    "\n",
    "The above model uses a random initial embedding, as configured by the decoder used by `ContextualColorDescriber`. This homework question asks you to consider using GloVe inputs. \n",
    "\n",
    "__Your task__: Complete `create_glove_embedding` so that it creates a GloVe embedding based on your model vocabulary. This isn't mean to be analytically challenging, but rather just to create a basis for you to try out other kinds of rich initialization."
   ]
  },
  {
   "cell_type": "code",
   "execution_count": 35,
   "metadata": {},
   "outputs": [],
   "source": [
    "GLOVE_HOME = os.path.join('data', 'glove.6B')"
   ]
  },
  {
   "cell_type": "code",
   "execution_count": 36,
   "metadata": {},
   "outputs": [],
   "source": [
    "def create_glove_embedding(vocab, glove_base_filename='glove.6B.50d.txt'):\n",
    "    # Use `utils.glove2dict` to read in the GloVe file:\n",
    "    glove_lookup = utils.glove2dict(os.path.join(GLOVE_HOME, glove_base_filename))    \n",
    " \n",
    "    # Use `utils.create_pretrained_embedding` to create the embedding.\n",
    "    # This function will, by default, ensure that START_TOKEN,\n",
    "    # END_TOKEN, and UNK_TOKEN are included in the embedding.\n",
    "\n",
    "    glove_embedding, glove_vocab = \\\n",
    "        utils.create_pretrained_embedding(glove_lookup, vocab)\n",
    "\n",
    "    # Be sure to return the embedding you create as well as the\n",
    "    # vocabulary returned by `utils.create_pretrained_embedding`,\n",
    "    # which is likely to have been modified from the input `vocab`.\n",
    "    return glove_embedding, glove_vocab\n",
    "\n"
   ]
  },
  {
   "cell_type": "code",
   "execution_count": 37,
   "metadata": {},
   "outputs": [],
   "source": [
    "def test_create_glove_embedding(func):\n",
    "    vocab = ['NLU', 'is', 'the', 'future', '.', '$UNK', '<s>', '</s>']\n",
    "    glove_embedding, glove_vocab = func(vocab, 'glove.6B.50d.txt')\n",
    "    assert isinstance(glove_embedding, np.ndarray), \\\n",
    "        \"Expected embedding type {}; got {}\".format(\n",
    "        glove_embedding.__class__.__name__, glove_embedding.__class__.__name__)\n",
    "    assert glove_embedding.shape == (8, 50), \\\n",
    "        \"Expected embedding shape (8, 50); got {}\".format(glove_embedding.shape)\n",
    "    assert glove_vocab == vocab, \\\n",
    "        \"Expected vocab {}; got {}\".format(vocab, glove_vocab)"
   ]
  },
  {
   "cell_type": "code",
   "execution_count": 38,
   "metadata": {},
   "outputs": [],
   "source": [
    "if 'IS_GRADESCOPE_ENV' not in os.environ:\n",
    "    test_create_glove_embedding(create_glove_embedding)"
   ]
  },
  {
   "cell_type": "markdown",
   "metadata": {},
   "source": [
    "## Try the GloVe representations"
   ]
  },
  {
   "cell_type": "markdown",
   "metadata": {},
   "source": [
    "The extent to which GloVe is useful will depend heavily on how aligned your tokenization scheme is with the GloVe vocabulary. For example, if you did character-level tokenization, then the GloVe embedding space is not well-aligned with your tokenizer and using GloVe should have little no positive effect."
   ]
  },
  {
   "cell_type": "markdown",
   "metadata": {},
   "source": [
    "Let's see if GloVe helped for our development data:"
   ]
  },
  {
   "cell_type": "code",
   "execution_count": 39,
   "metadata": {},
   "outputs": [],
   "source": [
    "dev_glove_embedding, dev_glove_vocab = create_glove_embedding(dev_vocab)"
   ]
  },
  {
   "cell_type": "code",
   "execution_count": 40,
   "metadata": {},
   "outputs": [
    {
     "data": {
      "text/plain": [
       "949"
      ]
     },
     "execution_count": 40,
     "metadata": {},
     "output_type": "execute_result"
    }
   ],
   "source": [
    "len(dev_vocab)"
   ]
  },
  {
   "cell_type": "code",
   "execution_count": 41,
   "metadata": {},
   "outputs": [
    {
     "data": {
      "text/plain": [
       "949"
      ]
     },
     "execution_count": 41,
     "metadata": {},
     "output_type": "execute_result"
    }
   ],
   "source": [
    "len(dev_glove_vocab)"
   ]
  },
  {
   "cell_type": "code",
   "execution_count": 42,
   "metadata": {},
   "outputs": [],
   "source": [
    "dev_mod_glove = ContextualColorDescriber(\n",
    "    dev_glove_vocab,\n",
    "    embedding=dev_glove_embedding,\n",
    "    early_stopping=True)"
   ]
  },
  {
   "cell_type": "code",
   "execution_count": 43,
   "metadata": {},
   "outputs": [
    {
     "name": "stderr",
     "output_type": "stream",
     "text": [
      "Stopping after epoch 123. Validation score did not improve by tol=1e-05 for more than 10 epochs. Final error is 28.410223484039307"
     ]
    }
   ],
   "source": [
    "_ = dev_mod_glove.fit(dev_cols_train, dev_seqs_train)"
   ]
  },
  {
   "cell_type": "code",
   "execution_count": 44,
   "metadata": {},
   "outputs": [
    {
     "data": {
      "text/plain": [
       "0.7964295997696516"
      ]
     },
     "execution_count": 44,
     "metadata": {},
     "output_type": "execute_result"
    }
   ],
   "source": [
    "dev_mod_glove.listener_accuracy(dev_cols_test, dev_seqs_test)"
   ]
  },
  {
   "cell_type": "markdown",
   "metadata": {},
   "source": [
    "You probably saw a small boost, assuming your tokeization scheme leads to good overlap with the GloVe vocabulary. The input representations are larger than in our previous model (at least as I configured things), so we would need to do more runs with higher `max_iter` values to see whether this is worthwhile overall."
   ]
  },
  {
   "cell_type": "markdown",
   "metadata": {},
   "source": [
    "## Question 4: Color context [3 points]\n",
    "\n",
    "The final required homework question is the most challenging, but it should set you up to think in much more flexible ways about the underlying model we're using.\n",
    "\n",
    "The question asks you to modify various model components in `torch_color_describer.py`. The section called [Modifying the core model](colors_overview.ipynb#Modifying-the-core-model) from the core unit notebook provides a number of examples illustrating the basic techniques, so you might review that material if you get stuck here.\n",
    "\n",
    "__Your task__: Building on ideas from [Monroe et al. 2017](https://transacl.org/ojs/index.php/tacl/article/view/1142), you will redesign the model so that the target color (the final one in the context) is appended to each input token that gets processed by the decoder. The question asks you to subclass the `Decoder` and `EncoderDecoder` from `torch_color_describer.py` so that you can build models that do this."
   ]
  },
  {
   "cell_type": "markdown",
   "metadata": {},
   "source": [
    "__Step 1__: Modify the `Decoder` so that the input vector to the model at each timestep is not just a token representation `x` but the concatenation of `x` with the representation of the target color.\n",
    "\n",
    "__Notes__:\n",
    "\n",
    "* You might notice at this point that the original `Decoder.forward` method has an optional keyword argument `target_colors` that is passed to `Decoder.get_embeddings`. Because this is already in place, all you have to do is modify the `get_embeddings` method to use this argument.\n",
    "\n",
    "* The change affects the configuration of `self.rnn`, so you need to subclass the `__init__` method as well, so that its `input_size` argument accomodates the embedding as well as the color representations.\n",
    "\n",
    "* You can do the relevant operations efficiently in pure PyTorch using `repeat_interleave` and `cat`, but the important thing is to get a working implementation – you can always optimize the code later if the ideas prove useful to you. \n",
    "\n",
    "Here's skeleton code for you to flesh out:"
   ]
  },
  {
   "cell_type": "code",
   "execution_count": 45,
   "metadata": {},
   "outputs": [],
   "source": [
    "from torch_color_describer import Decoder\n",
    "import torch\n",
    "import torch.nn as nn\n",
    "\n",
    "\n",
    "class ColorContextDecoder(Decoder):\n",
    "    def __init__(self, color_dim, *args, **kwargs):\n",
    "        self.color_dim = color_dim\n",
    "        super().__init__(*args, **kwargs)\n",
    "        \n",
    "        # Fix the `self.rnn` attribute:\n",
    "        self.rnn = nn.GRU(\n",
    "            input_size = self.embed_dim + self.color_dim,\n",
    "            hidden_size = self.hidden_dim,\n",
    "            batch_first = True)\n",
    "\n",
    "\n",
    "    def get_embeddings(self, word_seqs, target_colors=None):\n",
    "        \"\"\"\n",
    "        You can assume that `target_colors` is a tensor of shape\n",
    "        (m, n), where m is the length of the batch (same as\n",
    "        `word_seqs.shape[0]`) and n is the dimensionality of the\n",
    "        color representations the model is using. The goal is\n",
    "        to attach each color vector i to each of the tokens in\n",
    "        the ith sequence of (the embedded version of) `word_seqs`.\n",
    "\n",
    "        \"\"\"\n",
    "        return torch.cat((self.embedding(word_seqs), torch.tile(target_colors, (1, word_seqs.shape[1])).\n",
    "                          reshape(-1, word_seqs.shape[1], target_colors.shape[1])),\n",
    "                         2)"
   ]
  },
  {
   "cell_type": "markdown",
   "metadata": {},
   "source": [
    "Step 1 is the most demanding of the steps in terms of tensor wrangling. It's important to have a clear idea of what you are trying to achieve and to unit test `get_embeddings` so that you can check that it has realized your vision. The following test should help with that:"
   ]
  },
  {
   "cell_type": "code",
   "execution_count": 46,
   "metadata": {},
   "outputs": [],
   "source": [
    "def test_get_embeddings(decoder_class):\n",
    "    \"\"\"\n",
    "    It's assumed that the input to this will be `ColorContextDecoder`.\n",
    "    You pass in the class, and the function initalizes it with the test\n",
    "    parameters.\n",
    "    \"\"\"\n",
    "    dec = decoder_class(\n",
    "        color_dim=3,   # For these, we mainly want *different*\n",
    "        vocab_size=10, # dimensions so that we reliably get\n",
    "        embed_dim=4,   # dimensionality errors if something\n",
    "        hidden_dim=5)  # isn't working.\n",
    "\n",
    "    # This step just changes the embedding to one with values\n",
    "    # that are easy to inspect and definitely will not change\n",
    "    # between runs:\n",
    "    dec.embedding = nn.Embedding.from_pretrained(\n",
    "        torch.FloatTensor([\n",
    "            [10, 11, 12, 13],\n",
    "            [14, 15, 16, 17],\n",
    "            [18, 19, 20, 21]]))\n",
    "\n",
    "    # These are the incoming sequences -- lists of indices\n",
    "    # into the rows of `dec.embedding`:\n",
    "    word_seqs = torch.tensor([\n",
    "        [0,1,2],\n",
    "        [2,0,1]])\n",
    "\n",
    "    # Target colors as small floats that will be easy to track:\n",
    "    target_colors = torch.tensor([\n",
    "        [0.1, 0.2, 0.3],\n",
    "        [0.7, 0.8, 0.9]])\n",
    "\n",
    "    # The desired return value: one list of tensors for each of\n",
    "    # the two sequences in `word_seqs`. Each index is replaced\n",
    "    # with its vector from `dec.embedding` and has the\n",
    "    # corrresponding color from `target_colors` appended to it.\n",
    "    expected = torch.tensor([\n",
    "        [[10., 11., 12., 13.,  0.1,  0.2,  0.3],\n",
    "         [14., 15., 16., 17.,  0.1,  0.2,  0.3],\n",
    "         [18., 19., 20., 21.,  0.1,  0.2,  0.3]],\n",
    "\n",
    "        [[18., 19., 20., 21.,  0.7,  0.8,  0.9],\n",
    "         [10., 11., 12., 13.,  0.7,  0.8,  0.9],\n",
    "         [14., 15., 16., 17.,  0.7,  0.8,  0.9]]])\n",
    "\n",
    "    result = dec.get_embeddings(word_seqs, target_colors=target_colors)\n",
    "\n",
    "    assert expected.shape == result.shape, \\\n",
    "        \"Expected shape {}; got shape {}\".format(expected.shape, result.shape)\n",
    "\n",
    "    assert torch.all(expected.eq(result)), \\\n",
    "        (\"Your result has the desired shape but the values aren't correct. \"\n",
    "         \"Here's what your function creates; compare it with `expected` \"\n",
    "         \"from the test:\\n{}\".format(result))"
   ]
  },
  {
   "cell_type": "code",
   "execution_count": 47,
   "metadata": {},
   "outputs": [],
   "source": [
    "if 'IS_GRADESCOPE_ENV' not in os.environ:\n",
    "    test_get_embeddings(ColorContextDecoder)"
   ]
  },
  {
   "cell_type": "markdown",
   "metadata": {},
   "source": [
    "__Step 2__: Modify the `EncoderDecoder`. For this, you just need to make a small change to the `forward` method: extract the target colors from `color_seqs` and feed them to the decoder."
   ]
  },
  {
   "cell_type": "code",
   "execution_count": 48,
   "metadata": {},
   "outputs": [],
   "source": [
    "from torch_color_describer import EncoderDecoder\n",
    "\n",
    "class ColorizedEncoderDecoder(EncoderDecoder):\n",
    "\n",
    "    def forward(self,\n",
    "            color_seqs,\n",
    "            word_seqs,\n",
    "            seq_lengths=None,\n",
    "            hidden=None,\n",
    "            targets=None):\n",
    "        if hidden is None:\n",
    "            hidden = self.encoder(color_seqs)\n",
    "\n",
    "        # Extract the target colors from `color_seqs` and\n",
    "        # feed them to the decoder, which already has a\n",
    "        # `target_colors` keyword.\n",
    "\n",
    "        output, hidden = self.decoder(word_seqs, seq_lengths=seq_lengths, \n",
    "                                      hidden=hidden, target_colors=color_seqs[:,2])\n",
    "        \n",
    "        # Your decoder will return `output, hidden` pairs; the\n",
    "        # following will handle the two return situations that\n",
    "        # the code needs to consider -- training and prediction.\n",
    "        if self.training:\n",
    "            return output\n",
    "        else:\n",
    "            return output, hidden"
   ]
  },
  {
   "cell_type": "markdown",
   "metadata": {},
   "source": [
    "__Step 3__: Finally, as in the examples in [Modifying the core model](colors_overview.ipynb#Modifying-the-core-model), you need to modify the `build_graph` method of `ContextualColorDescriber` so that it uses your new `ColorContextDecoder` and `ColorizedEncoderDecoder`. Here's starter code:"
   ]
  },
  {
   "cell_type": "code",
   "execution_count": 49,
   "metadata": {},
   "outputs": [],
   "source": [
    "from torch_color_describer import Encoder\n",
    "\n",
    "class ColorizedInputDescriber(ContextualColorDescriber):\n",
    "\n",
    "    def build_graph(self):       \n",
    "        # We didn't modify the encoder, so this is\n",
    "        # just copied over from the original:\n",
    "        encoder = Encoder(\n",
    "            color_dim=self.color_dim,\n",
    "            hidden_dim=self.hidden_dim)\n",
    "\n",
    "        # Use your `ColorContextDecoder`, making sure\n",
    "        # to pass in all the keyword arguments coming\n",
    "        # from `ColorizedInputDescriber`:\n",
    "        decoder = ColorContextDecoder(\n",
    "            vocab_size=self.vocab_size,\n",
    "            embed_dim=self.embed_dim,\n",
    "            embedding=self.embedding,\n",
    "            hidden_dim=self.hidden_dim,\n",
    "            freeze_embedding=self.freeze_embedding,\n",
    "            color_dim=self.color_dim)\n",
    "\n",
    "        # Return a `ColorizedEncoderDecoder` that uses\n",
    "        # your encoder and decoder:\n",
    "        return ColorizedEncoderDecoder(encoder, decoder)"
   ]
  },
  {
   "cell_type": "markdown",
   "metadata": {},
   "source": [
    "That's it! Since these modifications are pretty intricate, you might want to use [a toy dataset](colors_overview.ipynb#Toy-problems-for-development-work) to debug it:"
   ]
  },
  {
   "cell_type": "code",
   "execution_count": 50,
   "metadata": {},
   "outputs": [],
   "source": [
    "def test_full_system(describer_class):\n",
    "    toy_color_seqs, toy_word_seqs, toy_vocab = create_example_dataset(\n",
    "        group_size=50, vec_dim=2)\n",
    "\n",
    "    toy_color_seqs_train, toy_color_seqs_test, toy_word_seqs_train, toy_word_seqs_test = \\\n",
    "        train_test_split(toy_color_seqs, toy_word_seqs)\n",
    "\n",
    "    toy_mod = describer_class(toy_vocab)\n",
    "\n",
    "    _ = toy_mod.fit(toy_color_seqs_train, toy_word_seqs_train)\n",
    "\n",
    "    acc = toy_mod.listener_accuracy(toy_color_seqs_test, toy_word_seqs_test)\n",
    "\n",
    "    return acc"
   ]
  },
  {
   "cell_type": "code",
   "execution_count": 51,
   "metadata": {},
   "outputs": [
    {
     "name": "stderr",
     "output_type": "stream",
     "text": [
      "Finished epoch 1000 of 1000; error is 0.10905537009239197"
     ]
    },
    {
     "data": {
      "text/plain": [
       "1.0"
      ]
     },
     "execution_count": 51,
     "metadata": {},
     "output_type": "execute_result"
    }
   ],
   "source": [
    "test_full_system(ColorizedInputDescriber)"
   ]
  },
  {
   "cell_type": "markdown",
   "metadata": {},
   "source": [
    "If that worked, then you can now try this model on SCC problems!"
   ]
  },
  {
   "cell_type": "markdown",
   "metadata": {},
   "source": [
    "## Your original system [3 points]"
   ]
  },
  {
   "cell_type": "markdown",
   "metadata": {},
   "source": [
    "There are many options for your original system, which consists of the full pipeline – all preprocessing and modeling steps. You are free to use any model you like, as long as you subclass `ContextualColorDescriber` in a way that allows its `evaluate` method to behave in the expected way.\n",
    "\n",
    "So that we can evaluate models in a uniform way for the bake-off, we ask that you modify the function `evaluate_original_system` below so that it accepts a trained instance of your model and does any preprocessing steps required by your model.\n",
    "\n",
    "If we seek to reproduce your results, we will rerun this entire notebook. Thus, it is fine if your `evaluate_original_system` makes use of functions you wrote or modified above this cell."
   ]
  },
  {
   "cell_type": "code",
   "execution_count": 52,
   "metadata": {},
   "outputs": [],
   "source": [
    "def evaluate_original_system(trained_model, color_seqs_test, texts_test):\n",
    "    \"\"\"\n",
    "    Feel free to modify this code to accommodate the needs of\n",
    "    your system. Just keep in mind that it will get raw corpus\n",
    "    examples as inputs for the bake-off.\n",
    "\n",
    "    \"\"\"\n",
    "    # `word_seqs_test` is a list of strings, so tokenize each of\n",
    "    # its elements:\n",
    "    tok_seqs = [tokenize_example(s) for s in texts_test]\n",
    "\n",
    "    col_seqs = [represent_color_context(colors)\n",
    "                for colors in color_seqs_test]\n",
    "\n",
    "\n",
    "    # Optionally include other preprocessing steps here. Note:\n",
    "    # DO NOT RETRAIN YOUR MODEL AS PART OF THIS EVALUATION!\n",
    "    # It's a tempting step, but it's a mistake and will get\n",
    "    # you disqualified!\n",
    "\n",
    "    # The following core score calculations are required:\n",
    "    evaluation = trained_model.evaluate(col_seqs, tok_seqs)\n",
    "\n",
    "    return evaluation"
   ]
  },
  {
   "cell_type": "markdown",
   "metadata": {},
   "source": [
    "If `evaluate_original_system` works on test sets you create from the corpus distribution, then it will work for the bake-off, so consider checking that. For example, this would check that `dev_mod` above passes muster:"
   ]
  },
  {
   "cell_type": "code",
   "execution_count": 53,
   "metadata": {},
   "outputs": [],
   "source": [
    "my_evaluation = evaluate_original_system(dev_mod, dev_rawcols_test, dev_texts_test)"
   ]
  },
  {
   "cell_type": "code",
   "execution_count": 54,
   "metadata": {},
   "outputs": [
    {
     "data": {
      "text/plain": [
       "0.7805931471350418"
      ]
     },
     "execution_count": 54,
     "metadata": {},
     "output_type": "execute_result"
    }
   ],
   "source": [
    "my_evaluation['listener_accuracy']"
   ]
  },
  {
   "cell_type": "code",
   "execution_count": 55,
   "metadata": {},
   "outputs": [
    {
     "data": {
      "text/plain": [
       "0.691886962260811"
      ]
     },
     "execution_count": 55,
     "metadata": {},
     "output_type": "execute_result"
    }
   ],
   "source": [
    "my_evaluation['corpus_bleu']"
   ]
  },
  {
   "cell_type": "markdown",
   "metadata": {},
   "source": [
    "In the cell below, please provide a brief technical description of your original system, so that the teaching team can gain an understanding of what it does. This will help us to understand your code and analyze all the submissions to identify patterns and strategies. We also ask that you report the best **listener_accuracy** score your system got during development, just to help us understand how systems performed overall."
   ]
  },
  {
   "cell_type": "code",
   "execution_count": 56,
   "metadata": {},
   "outputs": [
    {
     "name": "stderr",
     "output_type": "stream",
     "text": [
      "/raid/miguelm/stanford/XCS224U/torch_color_describer.py:678: RuntimeWarning: divide by zero encountered in power\n",
      "  perp = [np.prod(s)**(-1/len(s)) for s in scores]\n",
      "Finished epoch 1 of 1000; error is 481.7084493637085/raid/miguelm/stanford/XCS224U/torch_color_describer.py:678: RuntimeWarning: divide by zero encountered in power\n",
      "  perp = [np.prod(s)**(-1/len(s)) for s in scores]\n",
      "Finished epoch 2 of 1000; error is 443.7746391296387/raid/miguelm/stanford/XCS224U/torch_color_describer.py:678: RuntimeWarning: divide by zero encountered in power\n",
      "  perp = [np.prod(s)**(-1/len(s)) for s in scores]\n",
      "Finished epoch 3 of 1000; error is 434.1728162765503/raid/miguelm/stanford/XCS224U/torch_color_describer.py:678: RuntimeWarning: divide by zero encountered in power\n",
      "  perp = [np.prod(s)**(-1/len(s)) for s in scores]\n",
      "Finished epoch 4 of 1000; error is 425.2736129760742/raid/miguelm/stanford/XCS224U/torch_color_describer.py:678: RuntimeWarning: divide by zero encountered in power\n",
      "  perp = [np.prod(s)**(-1/len(s)) for s in scores]\n",
      "Finished epoch 5 of 1000; error is 418.66757440567017/raid/miguelm/stanford/XCS224U/torch_color_describer.py:678: RuntimeWarning: divide by zero encountered in power\n",
      "  perp = [np.prod(s)**(-1/len(s)) for s in scores]\n",
      "Finished epoch 6 of 1000; error is 412.03645181655884/raid/miguelm/stanford/XCS224U/torch_color_describer.py:678: RuntimeWarning: divide by zero encountered in power\n",
      "  perp = [np.prod(s)**(-1/len(s)) for s in scores]\n",
      "Finished epoch 7 of 1000; error is 403.3177671432495/raid/miguelm/stanford/XCS224U/torch_color_describer.py:678: RuntimeWarning: divide by zero encountered in power\n",
      "  perp = [np.prod(s)**(-1/len(s)) for s in scores]\n",
      "Finished epoch 8 of 1000; error is 398.20188570022583/raid/miguelm/stanford/XCS224U/torch_color_describer.py:678: RuntimeWarning: divide by zero encountered in power\n",
      "  perp = [np.prod(s)**(-1/len(s)) for s in scores]\n",
      "Finished epoch 9 of 1000; error is 390.5672869682312/raid/miguelm/stanford/XCS224U/torch_color_describer.py:678: RuntimeWarning: divide by zero encountered in power\n",
      "  perp = [np.prod(s)**(-1/len(s)) for s in scores]\n",
      "Finished epoch 10 of 1000; error is 384.008526802063/raid/miguelm/stanford/XCS224U/torch_color_describer.py:678: RuntimeWarning: divide by zero encountered in power\n",
      "  perp = [np.prod(s)**(-1/len(s)) for s in scores]\n",
      "Finished epoch 11 of 1000; error is 376.3535838127136/raid/miguelm/stanford/XCS224U/torch_color_describer.py:678: RuntimeWarning: divide by zero encountered in power\n",
      "  perp = [np.prod(s)**(-1/len(s)) for s in scores]\n",
      "Finished epoch 12 of 1000; error is 371.2217950820923/raid/miguelm/stanford/XCS224U/torch_color_describer.py:678: RuntimeWarning: divide by zero encountered in power\n",
      "  perp = [np.prod(s)**(-1/len(s)) for s in scores]\n",
      "Finished epoch 13 of 1000; error is 362.151978969574/raid/miguelm/stanford/XCS224U/torch_color_describer.py:678: RuntimeWarning: divide by zero encountered in power\n",
      "  perp = [np.prod(s)**(-1/len(s)) for s in scores]\n",
      "Finished epoch 14 of 1000; error is 357.9774889945984/raid/miguelm/stanford/XCS224U/torch_color_describer.py:678: RuntimeWarning: divide by zero encountered in power\n",
      "  perp = [np.prod(s)**(-1/len(s)) for s in scores]\n",
      "Finished epoch 15 of 1000; error is 350.0271244049072/raid/miguelm/stanford/XCS224U/torch_color_describer.py:678: RuntimeWarning: divide by zero encountered in power\n",
      "  perp = [np.prod(s)**(-1/len(s)) for s in scores]\n",
      "Finished epoch 16 of 1000; error is 343.69866132736206/raid/miguelm/stanford/XCS224U/torch_color_describer.py:678: RuntimeWarning: divide by zero encountered in power\n",
      "  perp = [np.prod(s)**(-1/len(s)) for s in scores]\n",
      "Finished epoch 17 of 1000; error is 338.15489435195923/raid/miguelm/stanford/XCS224U/torch_color_describer.py:678: RuntimeWarning: divide by zero encountered in power\n",
      "  perp = [np.prod(s)**(-1/len(s)) for s in scores]\n",
      "Finished epoch 18 of 1000; error is 330.44489765167236/raid/miguelm/stanford/XCS224U/torch_color_describer.py:678: RuntimeWarning: divide by zero encountered in power\n",
      "  perp = [np.prod(s)**(-1/len(s)) for s in scores]\n",
      "Finished epoch 19 of 1000; error is 325.01839780807495/raid/miguelm/stanford/XCS224U/torch_color_describer.py:678: RuntimeWarning: divide by zero encountered in power\n",
      "  perp = [np.prod(s)**(-1/len(s)) for s in scores]\n",
      "Finished epoch 20 of 1000; error is 319.129834651947/raid/miguelm/stanford/XCS224U/torch_color_describer.py:678: RuntimeWarning: divide by zero encountered in power\n",
      "  perp = [np.prod(s)**(-1/len(s)) for s in scores]\n",
      "Finished epoch 21 of 1000; error is 311.7187809944153/raid/miguelm/stanford/XCS224U/torch_color_describer.py:678: RuntimeWarning: divide by zero encountered in power\n",
      "  perp = [np.prod(s)**(-1/len(s)) for s in scores]\n",
      "Finished epoch 22 of 1000; error is 305.7275004386902/raid/miguelm/stanford/XCS224U/torch_color_describer.py:678: RuntimeWarning: divide by zero encountered in power\n",
      "  perp = [np.prod(s)**(-1/len(s)) for s in scores]\n",
      "Finished epoch 23 of 1000; error is 298.70232915878296/raid/miguelm/stanford/XCS224U/torch_color_describer.py:678: RuntimeWarning: divide by zero encountered in power\n",
      "  perp = [np.prod(s)**(-1/len(s)) for s in scores]\n",
      "Finished epoch 24 of 1000; error is 292.69421577453613/raid/miguelm/stanford/XCS224U/torch_color_describer.py:678: RuntimeWarning: divide by zero encountered in power\n",
      "  perp = [np.prod(s)**(-1/len(s)) for s in scores]\n",
      "Finished epoch 25 of 1000; error is 285.22318744659424/raid/miguelm/stanford/XCS224U/torch_color_describer.py:678: RuntimeWarning: divide by zero encountered in power\n",
      "  perp = [np.prod(s)**(-1/len(s)) for s in scores]\n",
      "Finished epoch 26 of 1000; error is 279.96373462677/raid/miguelm/stanford/XCS224U/torch_color_describer.py:678: RuntimeWarning: divide by zero encountered in power\n",
      "  perp = [np.prod(s)**(-1/len(s)) for s in scores]\n",
      "Finished epoch 27 of 1000; error is 273.8180570602417/raid/miguelm/stanford/XCS224U/torch_color_describer.py:678: RuntimeWarning: divide by zero encountered in power\n",
      "  perp = [np.prod(s)**(-1/len(s)) for s in scores]\n",
      "Finished epoch 28 of 1000; error is 266.488187789917/raid/miguelm/stanford/XCS224U/torch_color_describer.py:678: RuntimeWarning: divide by zero encountered in power\n",
      "  perp = [np.prod(s)**(-1/len(s)) for s in scores]\n",
      "Finished epoch 29 of 1000; error is 260.617271900177/raid/miguelm/stanford/XCS224U/torch_color_describer.py:678: RuntimeWarning: divide by zero encountered in power\n",
      "  perp = [np.prod(s)**(-1/len(s)) for s in scores]\n",
      "Finished epoch 30 of 1000; error is 254.3680067062378/raid/miguelm/stanford/XCS224U/torch_color_describer.py:678: RuntimeWarning: divide by zero encountered in power\n",
      "  perp = [np.prod(s)**(-1/len(s)) for s in scores]\n",
      "Finished epoch 31 of 1000; error is 248.24789309501648/raid/miguelm/stanford/XCS224U/torch_color_describer.py:678: RuntimeWarning: divide by zero encountered in power\n",
      "  perp = [np.prod(s)**(-1/len(s)) for s in scores]\n",
      "Finished epoch 32 of 1000; error is 241.46135759353638/raid/miguelm/stanford/XCS224U/torch_color_describer.py:678: RuntimeWarning: divide by zero encountered in power\n",
      "  perp = [np.prod(s)**(-1/len(s)) for s in scores]\n",
      "Finished epoch 33 of 1000; error is 235.11968159675598/raid/miguelm/stanford/XCS224U/torch_color_describer.py:678: RuntimeWarning: divide by zero encountered in power\n",
      "  perp = [np.prod(s)**(-1/len(s)) for s in scores]\n",
      "Finished epoch 34 of 1000; error is 229.03382682800293/raid/miguelm/stanford/XCS224U/torch_color_describer.py:678: RuntimeWarning: divide by zero encountered in power\n",
      "  perp = [np.prod(s)**(-1/len(s)) for s in scores]\n",
      "Finished epoch 35 of 1000; error is 223.17510890960693/raid/miguelm/stanford/XCS224U/torch_color_describer.py:678: RuntimeWarning: divide by zero encountered in power\n",
      "  perp = [np.prod(s)**(-1/len(s)) for s in scores]\n",
      "Finished epoch 36 of 1000; error is 217.09779715538025/raid/miguelm/stanford/XCS224U/torch_color_describer.py:678: RuntimeWarning: divide by zero encountered in power\n",
      "  perp = [np.prod(s)**(-1/len(s)) for s in scores]\n",
      "Finished epoch 37 of 1000; error is 210.28582119941711/raid/miguelm/stanford/XCS224U/torch_color_describer.py:678: RuntimeWarning: divide by zero encountered in power\n",
      "  perp = [np.prod(s)**(-1/len(s)) for s in scores]\n",
      "Finished epoch 38 of 1000; error is 204.61883783340454/raid/miguelm/stanford/XCS224U/torch_color_describer.py:678: RuntimeWarning: divide by zero encountered in power\n",
      "  perp = [np.prod(s)**(-1/len(s)) for s in scores]\n",
      "Finished epoch 39 of 1000; error is 198.3241946697235/raid/miguelm/stanford/XCS224U/torch_color_describer.py:678: RuntimeWarning: divide by zero encountered in power\n",
      "  perp = [np.prod(s)**(-1/len(s)) for s in scores]\n",
      "Finished epoch 40 of 1000; error is 192.27728366851807/raid/miguelm/stanford/XCS224U/torch_color_describer.py:678: RuntimeWarning: divide by zero encountered in power\n",
      "  perp = [np.prod(s)**(-1/len(s)) for s in scores]\n",
      "Finished epoch 41 of 1000; error is 186.12088799476624/raid/miguelm/stanford/XCS224U/torch_color_describer.py:678: RuntimeWarning: divide by zero encountered in power\n",
      "  perp = [np.prod(s)**(-1/len(s)) for s in scores]\n",
      "Finished epoch 42 of 1000; error is 180.35770726203918/raid/miguelm/stanford/XCS224U/torch_color_describer.py:678: RuntimeWarning: divide by zero encountered in power\n",
      "  perp = [np.prod(s)**(-1/len(s)) for s in scores]\n",
      "Finished epoch 43 of 1000; error is 174.069739818573/raid/miguelm/stanford/XCS224U/torch_color_describer.py:678: RuntimeWarning: divide by zero encountered in power\n",
      "  perp = [np.prod(s)**(-1/len(s)) for s in scores]\n",
      "Finished epoch 44 of 1000; error is 168.31006717681885/raid/miguelm/stanford/XCS224U/torch_color_describer.py:678: RuntimeWarning: divide by zero encountered in power\n",
      "  perp = [np.prod(s)**(-1/len(s)) for s in scores]\n",
      "Finished epoch 45 of 1000; error is 162.37616968154907/raid/miguelm/stanford/XCS224U/torch_color_describer.py:678: RuntimeWarning: divide by zero encountered in power\n",
      "  perp = [np.prod(s)**(-1/len(s)) for s in scores]\n",
      "Finished epoch 46 of 1000; error is 156.69664978981018/raid/miguelm/stanford/XCS224U/torch_color_describer.py:678: RuntimeWarning: divide by zero encountered in power\n",
      "  perp = [np.prod(s)**(-1/len(s)) for s in scores]\n",
      "Finished epoch 47 of 1000; error is 151.039155960083/raid/miguelm/stanford/XCS224U/torch_color_describer.py:678: RuntimeWarning: divide by zero encountered in power\n",
      "  perp = [np.prod(s)**(-1/len(s)) for s in scores]\n",
      "Finished epoch 48 of 1000; error is 145.69906902313232/raid/miguelm/stanford/XCS224U/torch_color_describer.py:678: RuntimeWarning: divide by zero encountered in power\n",
      "  perp = [np.prod(s)**(-1/len(s)) for s in scores]\n",
      "Finished epoch 49 of 1000; error is 140.19303131103516/raid/miguelm/stanford/XCS224U/torch_color_describer.py:678: RuntimeWarning: divide by zero encountered in power\n",
      "  perp = [np.prod(s)**(-1/len(s)) for s in scores]\n",
      "Finished epoch 50 of 1000; error is 134.72428560256958/raid/miguelm/stanford/XCS224U/torch_color_describer.py:678: RuntimeWarning: divide by zero encountered in power\n",
      "  perp = [np.prod(s)**(-1/len(s)) for s in scores]\n",
      "Finished epoch 51 of 1000; error is 129.46834254264832/raid/miguelm/stanford/XCS224U/torch_color_describer.py:678: RuntimeWarning: divide by zero encountered in power\n",
      "  perp = [np.prod(s)**(-1/len(s)) for s in scores]\n",
      "Finished epoch 52 of 1000; error is 124.31912112236023/raid/miguelm/stanford/XCS224U/torch_color_describer.py:678: RuntimeWarning: divide by zero encountered in power\n",
      "  perp = [np.prod(s)**(-1/len(s)) for s in scores]\n",
      "Finished epoch 53 of 1000; error is 119.30585408210754/raid/miguelm/stanford/XCS224U/torch_color_describer.py:678: RuntimeWarning: divide by zero encountered in power\n",
      "  perp = [np.prod(s)**(-1/len(s)) for s in scores]\n",
      "Finished epoch 54 of 1000; error is 114.38679671287537/raid/miguelm/stanford/XCS224U/torch_color_describer.py:678: RuntimeWarning: divide by zero encountered in power\n",
      "  perp = [np.prod(s)**(-1/len(s)) for s in scores]\n",
      "Finished epoch 55 of 1000; error is 109.6113920211792/raid/miguelm/stanford/XCS224U/torch_color_describer.py:678: RuntimeWarning: divide by zero encountered in power\n",
      "  perp = [np.prod(s)**(-1/len(s)) for s in scores]\n",
      "Finished epoch 56 of 1000; error is 104.98864150047302/raid/miguelm/stanford/XCS224U/torch_color_describer.py:678: RuntimeWarning: divide by zero encountered in power\n",
      "  perp = [np.prod(s)**(-1/len(s)) for s in scores]\n",
      "Finished epoch 57 of 1000; error is 100.52246606349945/raid/miguelm/stanford/XCS224U/torch_color_describer.py:678: RuntimeWarning: divide by zero encountered in power\n",
      "  perp = [np.prod(s)**(-1/len(s)) for s in scores]\n",
      "Finished epoch 58 of 1000; error is 96.2106294631958/raid/miguelm/stanford/XCS224U/torch_color_describer.py:678: RuntimeWarning: divide by zero encountered in power\n",
      "  perp = [np.prod(s)**(-1/len(s)) for s in scores]\n",
      "Finished epoch 59 of 1000; error is 91.92916643619537/raid/miguelm/stanford/XCS224U/torch_color_describer.py:678: RuntimeWarning: divide by zero encountered in power\n",
      "  perp = [np.prod(s)**(-1/len(s)) for s in scores]\n",
      "Finished epoch 60 of 1000; error is 88.03196942806244/raid/miguelm/stanford/XCS224U/torch_color_describer.py:678: RuntimeWarning: divide by zero encountered in power\n",
      "  perp = [np.prod(s)**(-1/len(s)) for s in scores]\n",
      "Finished epoch 61 of 1000; error is 84.05637693405151/raid/miguelm/stanford/XCS224U/torch_color_describer.py:678: RuntimeWarning: divide by zero encountered in power\n",
      "  perp = [np.prod(s)**(-1/len(s)) for s in scores]\n",
      "Finished epoch 62 of 1000; error is 80.5345698595047/raid/miguelm/stanford/XCS224U/torch_color_describer.py:678: RuntimeWarning: divide by zero encountered in power\n",
      "  perp = [np.prod(s)**(-1/len(s)) for s in scores]\n",
      "Finished epoch 63 of 1000; error is 76.9198352098465/raid/miguelm/stanford/XCS224U/torch_color_describer.py:678: RuntimeWarning: divide by zero encountered in power\n",
      "  perp = [np.prod(s)**(-1/len(s)) for s in scores]\n",
      "Finished epoch 64 of 1000; error is 73.70906329154968/raid/miguelm/stanford/XCS224U/torch_color_describer.py:678: RuntimeWarning: divide by zero encountered in power\n",
      "  perp = [np.prod(s)**(-1/len(s)) for s in scores]\n",
      "Finished epoch 65 of 1000; error is 70.36195385456085/raid/miguelm/stanford/XCS224U/torch_color_describer.py:678: RuntimeWarning: divide by zero encountered in power\n",
      "  perp = [np.prod(s)**(-1/len(s)) for s in scores]\n",
      "Finished epoch 66 of 1000; error is 67.33947086334229/raid/miguelm/stanford/XCS224U/torch_color_describer.py:678: RuntimeWarning: divide by zero encountered in power\n",
      "  perp = [np.prod(s)**(-1/len(s)) for s in scores]\n",
      "Finished epoch 67 of 1000; error is 64.4869082570076/raid/miguelm/stanford/XCS224U/torch_color_describer.py:678: RuntimeWarning: divide by zero encountered in power\n",
      "  perp = [np.prod(s)**(-1/len(s)) for s in scores]\n",
      "Finished epoch 68 of 1000; error is 61.829040586948395/raid/miguelm/stanford/XCS224U/torch_color_describer.py:678: RuntimeWarning: divide by zero encountered in power\n",
      "  perp = [np.prod(s)**(-1/len(s)) for s in scores]\n",
      "Finished epoch 69 of 1000; error is 59.43996649980545/raid/miguelm/stanford/XCS224U/torch_color_describer.py:678: RuntimeWarning: divide by zero encountered in power\n",
      "  perp = [np.prod(s)**(-1/len(s)) for s in scores]\n",
      "Finished epoch 70 of 1000; error is 57.11604201793671/raid/miguelm/stanford/XCS224U/torch_color_describer.py:678: RuntimeWarning: divide by zero encountered in power\n",
      "  perp = [np.prod(s)**(-1/len(s)) for s in scores]\n",
      "Finished epoch 71 of 1000; error is 54.93245351314545/raid/miguelm/stanford/XCS224U/torch_color_describer.py:678: RuntimeWarning: divide by zero encountered in power\n",
      "  perp = [np.prod(s)**(-1/len(s)) for s in scores]\n",
      "Finished epoch 72 of 1000; error is 52.81771522760391/raid/miguelm/stanford/XCS224U/torch_color_describer.py:678: RuntimeWarning: divide by zero encountered in power\n",
      "  perp = [np.prod(s)**(-1/len(s)) for s in scores]\n",
      "Finished epoch 73 of 1000; error is 50.82681578397751/raid/miguelm/stanford/XCS224U/torch_color_describer.py:678: RuntimeWarning: divide by zero encountered in power\n",
      "  perp = [np.prod(s)**(-1/len(s)) for s in scores]\n",
      "Finished epoch 74 of 1000; error is 49.11109793186188/raid/miguelm/stanford/XCS224U/torch_color_describer.py:678: RuntimeWarning: divide by zero encountered in power\n",
      "  perp = [np.prod(s)**(-1/len(s)) for s in scores]\n",
      "Finished epoch 75 of 1000; error is 47.13122057914734/raid/miguelm/stanford/XCS224U/torch_color_describer.py:678: RuntimeWarning: divide by zero encountered in power\n",
      "  perp = [np.prod(s)**(-1/len(s)) for s in scores]\n",
      "Finished epoch 76 of 1000; error is 45.4855397939682/raid/miguelm/stanford/XCS224U/torch_color_describer.py:678: RuntimeWarning: divide by zero encountered in power\n",
      "  perp = [np.prod(s)**(-1/len(s)) for s in scores]\n",
      "Finished epoch 77 of 1000; error is 44.08774268627167/raid/miguelm/stanford/XCS224U/torch_color_describer.py:678: RuntimeWarning: divide by zero encountered in power\n",
      "  perp = [np.prod(s)**(-1/len(s)) for s in scores]\n",
      "Finished epoch 78 of 1000; error is 42.388736605644226/raid/miguelm/stanford/XCS224U/torch_color_describer.py:678: RuntimeWarning: divide by zero encountered in power\n",
      "  perp = [np.prod(s)**(-1/len(s)) for s in scores]\n",
      "Finished epoch 79 of 1000; error is 41.15023523569107/raid/miguelm/stanford/XCS224U/torch_color_describer.py:678: RuntimeWarning: divide by zero encountered in power\n",
      "  perp = [np.prod(s)**(-1/len(s)) for s in scores]\n",
      "Finished epoch 80 of 1000; error is 39.88735866546631/raid/miguelm/stanford/XCS224U/torch_color_describer.py:678: RuntimeWarning: divide by zero encountered in power\n",
      "  perp = [np.prod(s)**(-1/len(s)) for s in scores]\n",
      "Finished epoch 81 of 1000; error is 39.47662562131882/raid/miguelm/stanford/XCS224U/torch_color_describer.py:678: RuntimeWarning: divide by zero encountered in power\n",
      "  perp = [np.prod(s)**(-1/len(s)) for s in scores]\n",
      "Finished epoch 82 of 1000; error is 37.75830417871475/raid/miguelm/stanford/XCS224U/torch_color_describer.py:678: RuntimeWarning: divide by zero encountered in power\n",
      "  perp = [np.prod(s)**(-1/len(s)) for s in scores]\n",
      "Finished epoch 83 of 1000; error is 36.55248072743416/raid/miguelm/stanford/XCS224U/torch_color_describer.py:678: RuntimeWarning: divide by zero encountered in power\n",
      "  perp = [np.prod(s)**(-1/len(s)) for s in scores]\n",
      "Finished epoch 84 of 1000; error is 35.67362156510353/raid/miguelm/stanford/XCS224U/torch_color_describer.py:678: RuntimeWarning: divide by zero encountered in power\n",
      "  perp = [np.prod(s)**(-1/len(s)) for s in scores]\n",
      "Finished epoch 85 of 1000; error is 35.06060269474983/raid/miguelm/stanford/XCS224U/torch_color_describer.py:678: RuntimeWarning: divide by zero encountered in power\n",
      "  perp = [np.prod(s)**(-1/len(s)) for s in scores]\n",
      "Finished epoch 86 of 1000; error is 34.59752768278122/raid/miguelm/stanford/XCS224U/torch_color_describer.py:678: RuntimeWarning: divide by zero encountered in power\n",
      "  perp = [np.prod(s)**(-1/len(s)) for s in scores]\n",
      "Finished epoch 87 of 1000; error is 33.25748685002327/raid/miguelm/stanford/XCS224U/torch_color_describer.py:678: RuntimeWarning: divide by zero encountered in power\n",
      "  perp = [np.prod(s)**(-1/len(s)) for s in scores]\n",
      "Stopping after epoch 88. Validation score did not improve by tol=1e-05 for more than 10 epochs. Final error is 32.27682191133499/raid/miguelm/stanford/XCS224U/torch_color_describer.py:678: RuntimeWarning: divide by zero encountered in power\n",
      "  perp = [np.prod(s)**(-1/len(s)) for s in scores]\n"
     ]
    },
    {
     "name": "stdout",
     "output_type": "stream",
     "text": [
      "0.8850065965867984 0.5353947338474817\n"
     ]
    }
   ],
   "source": [
    "# PLEASE MAKE SURE TO INCLUDE THE FOLLOWING BETWEEN THE START AND STOP COMMENTS:\n",
    "#   1) Textual description of your system.\n",
    "#   2) The code for your original system.\n",
    "#   3) The score achieved by your system in place of MY_NUMBER.\n",
    "#        With no other changes to that line.\n",
    "#        You should report your score as a decimal value <=1.0\n",
    "# PLEASE MAKE SURE NOT TO DELETE OR EDIT THE START AND STOP COMMENTS\n",
    "\n",
    "# NOTE: MODULES, CODE AND DATASETS REQUIRED FOR YOUR ORIGINAL SYSTEM\n",
    "# SHOULD BE ADDED BELOW THE 'IS_GRADESCOPE_ENV' CHECK CONDITION. DOING\n",
    "# SO ABOVE THE CHECK MAY CAUSE THE AUTOGRADER TO FAIL.\n",
    "\n",
    "# START COMMENT: Enter your system description in this cell.\n",
    "# In my system, I have tried to follow what I have learnt during these lectures, but\n",
    "# trying to incorporate a few things to make it perform better.\n",
    "# I have started by doubling the dataset size by exchanging the order of the first and \n",
    "# the second colors. I have tested that data augmentation on the initial steps of this\n",
    "# notebook and increased the basic model performance significanly.\n",
    "# During the tokenizing step, I have removed any consecutive duplicated character within the words.\n",
    "# My objective is to represent with the same token multiple texts with similar spellings. \n",
    "# I am aware that this transformation is  not perfect, and which might lead that \n",
    "# some tokens that are different might finish represented in a similar way. \n",
    "# Neverthless, I think the beneffit will be bigger than the lost, therefore its usage.\n",
    "# Other manipulations I have performed during the tokenizing step include:\n",
    "# - Split compound word. For instance:\n",
    "#       'dark-blue' would become 'dark blue'\n",
    "#       'blueish/blue' would become 'blueish blue'\n",
    "# - Remove puntuation chars. For instance:\n",
    "#       'red!!!' would become 'red'\n",
    "# - Lowercase sentences\n",
    "# Then, I have used the Fourier transform suggested in the notebook to convert the colors.\n",
    "# I have also created glove embeddings and glove vocabulary from the training vocabulary.\n",
    "# Finally, I have used the outcome of the previous steps to train Question 4 color context model.\n",
    "\n",
    "# My peak score was: 0.8850065965867984\n",
    "if 'IS_GRADESCOPE_ENV' not in os.environ:\n",
    "    def my_original_system():\n",
    "        import torch\n",
    "        import torch.nn as nn\n",
    "        import os        \n",
    "        import utils\n",
    "        from colors import ColorsCorpusReader\n",
    "        from sklearn.model_selection import train_test_split\n",
    "        from torch_color_describer import ContextualColorDescriber\n",
    "        from torch_color_describer import Decoder\n",
    "        from torch_color_describer import Encoder\n",
    "        from torch_color_describer import EncoderDecoder\n",
    "        from utils import START_SYMBOL, END_SYMBOL, UNK_SYMBOL\n",
    "\n",
    "        def tokenize_example(s):\n",
    "            import re\n",
    "\n",
    "            # Below, I have performed performed some operations to the string.\n",
    "            # The objective is to reduce the total number of unique tokens in my dataset.\n",
    "            # For example, I have managed to reduce the number of unique token of `dev_texts_train` from 1438 to 948.\n",
    "            # My assumption is that having a smaller/cleaner vocabulary will improve model accuracy.    \n",
    "\n",
    "            # Step 1. Remove consecutive duplicated characters from 'text', trying to represent with the \n",
    "            # same token multiple texts with similar spellings.I am aware that this transformation is\n",
    "            # not perfect, and which might lead that some tokens that are different to finish represented\n",
    "            # in a similar way, but I will prioritise that some expressions could be grouped in a single token.\n",
    "            if not s: return s # Return s if empty\n",
    "\n",
    "            result = ''\n",
    "            # loop to check for each character\n",
    "            for i in range(1, len(s)):  \n",
    "                if s[i - 1] !=  s[i]:\n",
    "                    result += s[i - 1]\n",
    "            result += s[-1] \n",
    "\n",
    "            # Step 2: Split compound words\n",
    "            result = result.replace(\"-\", \" \").replace(\"/\", \" \")\n",
    "\n",
    "            # Step 3: Remove puntuation chars \n",
    "            result = re.sub(r'[^\\w\\s]','', result)\n",
    "\n",
    "            # Step 4: Lowercase words and split the sentence into a list\n",
    "            result = result.lower().split()\n",
    "\n",
    "            # Step 5: Add START_SYMBOL/END_SYMBOL at the beginning/end respectively\n",
    "            return [START_SYMBOL] + result + [END_SYMBOL]\n",
    "\n",
    "        def represent_color_context(colors):\n",
    "            return [represent_color(color) for color in colors]\n",
    "\n",
    "        def represent_color(color):\n",
    "            # Let's convert first from HSL (normalized) to HSV as detailed here:\n",
    "            # https://en.wikipedia.org/wiki/HSL_and_HSV#HSL_to_HSV\n",
    "            # H = color[0], S = color[1], L = color[2]\n",
    "            import cmath\n",
    "            from itertools import product\n",
    "\n",
    "            # HSL to HSV in the range [0.1]\n",
    "            h = color[0]\n",
    "            v = color[2] + color[1] * min(color[2], 1 - color[2])\n",
    "            s = 0. if v == 0 else 2 * (1 - color[2]/v)\n",
    "\n",
    "            # Fourier transform    \n",
    "            f = []\n",
    "            f_hat_imag = []\n",
    "            for i, k, l in product((0, 1, 2), repeat=3):\n",
    "                f_hat_ikl = cmath.exp(-2j*cmath.pi*(i*h + k*s + l*v))\n",
    "                f.append(f_hat_ikl.real)\n",
    "                f_hat_imag.append(f_hat_ikl.imag)\n",
    "            f.extend(f_hat_imag)\n",
    "\n",
    "            return f\n",
    "\n",
    "        def create_glove_embedding(vocab, glove_base_filename='glove.6B.50d.txt'):        \n",
    "            # Use `utils.glove2dict` to read in the GloVe file:\n",
    "            GLOVE_HOME = os.path.join('data', 'glove.6B')        \n",
    "            glove_lookup = utils.glove2dict(os.path.join(GLOVE_HOME, glove_base_filename))    \n",
    "\n",
    "            # Use `utils.create_pretrained_embedding` to create the embedding.\n",
    "            # This function will, by default, ensure that START_TOKEN,\n",
    "            # END_TOKEN, and UNK_TOKEN are included in the embedding.\n",
    "\n",
    "            glove_embedding, glove_vocab = \\\n",
    "                utils.create_pretrained_embedding(glove_lookup, vocab)\n",
    "\n",
    "            # Be sure to return the embedding you create as well as the\n",
    "            # vocabulary returned by `utils.create_pretrained_embedding`,\n",
    "            # which is likely to have been modified from the input `vocab`.\n",
    "            return glove_embedding, glove_vocab\n",
    "\n",
    "        # Step 0. Fix random seeds for reproducibility purposes\n",
    "        utils.fix_random_seeds()\n",
    "\n",
    "        # Step 1. Load dataset\n",
    "        COLORS_SRC_FILENAME = os.path.join(\n",
    "            \"data\", \"colors\", \"filteredCorpus.csv\")    \n",
    "        dev_corpus = ColorsCorpusReader(\n",
    "            COLORS_SRC_FILENAME,\n",
    "            word_count = None,\n",
    "            normalize_colors = True)\n",
    "        dev_examples = list(dev_corpus.read())\n",
    "\n",
    "        # Step 2. Double dataset size by exchanging the order of the first and second column\n",
    "        dev_rawcols, dev_texts = zip(*[[ex.colors, ex.contents] for ex in dev_examples])\n",
    "        dev_rawcols_ext, dev_texts_ext = zip(*[[[ex.colors[1], ex.colors[0], ex.colors[2]], ex.contents] for ex in dev_examples])\n",
    "        dev_rawcols += dev_rawcols_ext\n",
    "        dev_texts += dev_texts_ext\n",
    "\n",
    "\n",
    "        # Step 3. Create train and test datasets\n",
    "        dev_rawcols_train, dev_rawcols_test, dev_texts_train, dev_texts_test = \\\n",
    "            train_test_split(dev_rawcols, dev_texts)\n",
    "\n",
    "        # Step 4. Improve color representation\n",
    "        dev_cols_train = [represent_color_context(colors) for colors in dev_rawcols_train]\n",
    "        dev_cols_test = [represent_color_context(colors) for colors in dev_rawcols_test]\n",
    "\n",
    "        # Step 5. Tokenize input sequences\n",
    "        dev_seqs_train = [tokenize_example(s) for s in dev_texts_train]\n",
    "        dev_seqs_test = [tokenize_example(s) for s in dev_texts_test]    \n",
    "\n",
    "        # Step 6. Create vocabulary\n",
    "        dev_vocab = sorted({w for toks in dev_seqs_train for w in toks})\n",
    "        dev_vocab += [UNK_SYMBOL]\n",
    "\n",
    "        # Step 7. Create GloVe embeddings\n",
    "        dev_glove_embedding, dev_glove_vocab = create_glove_embedding(dev_vocab)\n",
    "\n",
    "        # Step 8. I will use the model defined in the step below\n",
    "        class ColorContextDecoder(Decoder):\n",
    "            def __init__(self, color_dim, *args, **kwargs):\n",
    "                self.color_dim = color_dim\n",
    "                super().__init__(*args, **kwargs)\n",
    "\n",
    "                # Fix the `self.rnn` attribute:\n",
    "                self.rnn = nn.GRU(\n",
    "                    input_size = self.embed_dim + self.color_dim,\n",
    "                    hidden_size = self.hidden_dim,\n",
    "                    batch_first = True)\n",
    "\n",
    "            def get_embeddings(self, word_seqs, target_colors=None):\n",
    "                \"\"\"\n",
    "                You can assume that `target_colors` is a tensor of shape\n",
    "                (m, n), where m is the length of the batch (same as\n",
    "                `word_seqs.shape[0]`) and n is the dimensionality of the\n",
    "                color representations the model is using. The goal is\n",
    "                to attach each color vector i to each of the tokens in\n",
    "                the ith sequence of (the embedded version of) `word_seqs`.\n",
    "\n",
    "                \"\"\"\n",
    "                return torch.cat((self.embedding(word_seqs), torch.tile(target_colors, (1, word_seqs.shape[1])).\n",
    "                                  reshape(-1, word_seqs.shape[1], target_colors.shape[1])),\n",
    "                                 2)\n",
    "\n",
    "        class ColorizedEncoderDecoder(EncoderDecoder):\n",
    "            def forward(self,\n",
    "                    color_seqs,\n",
    "                    word_seqs,\n",
    "                    seq_lengths=None,\n",
    "                    hidden=None,\n",
    "                    targets=None):\n",
    "                if hidden is None:\n",
    "                    hidden = self.encoder(color_seqs)\n",
    "\n",
    "                # Extract the target colors from `color_seqs` and\n",
    "                # feed them to the decoder, which already has a\n",
    "                # `target_colors` keyword.\n",
    "\n",
    "                output, hidden = self.decoder(word_seqs, seq_lengths=seq_lengths, \n",
    "                                              hidden=hidden, target_colors=color_seqs[:,2])\n",
    "\n",
    "                # Your decoder will return `output, hidden` pairs; the\n",
    "                # following will handle the two return situations that\n",
    "                # the code needs to consider -- training and prediction.\n",
    "                if self.training:\n",
    "                    return output\n",
    "                else:\n",
    "                    return output, hidden\n",
    "\n",
    "        class ColorizedInputDescriber(ContextualColorDescriber):\n",
    "            def build_graph(self):       \n",
    "                # We didn't modify the encoder, so this is\n",
    "                # just copied over from the original:\n",
    "                encoder = Encoder(\n",
    "                    color_dim=self.color_dim,\n",
    "                    hidden_dim=self.hidden_dim)\n",
    "\n",
    "                # Use your `ColorContextDecoder`, making sure\n",
    "                # to pass in all the keyword arguments coming\n",
    "                # from `ColorizedInputDescriber`:\n",
    "\n",
    "                ##### YOUR CODE HERE\n",
    "                decoder = ColorContextDecoder(\n",
    "                    vocab_size=self.vocab_size,\n",
    "                    embed_dim=self.embed_dim,\n",
    "                    embedding=self.embedding,\n",
    "                    hidden_dim=self.hidden_dim,\n",
    "                    freeze_embedding=self.freeze_embedding,\n",
    "                    color_dim=self.color_dim)\n",
    "\n",
    "                # Return a `ColorizedEncoderDecoder` that uses\n",
    "                # your encoder and decoder:\n",
    "                return ColorizedEncoderDecoder(encoder, decoder)\n",
    "\n",
    "        # Step 9. Train our model above + GloVe embeddings\n",
    "        dev_mod = ColorizedInputDescriber(\n",
    "                dev_glove_vocab,\n",
    "                embedding=dev_glove_embedding,\n",
    "                early_stopping=True)\n",
    "\n",
    "        _ = dev_mod.fit(dev_cols_train, dev_seqs_train)\n",
    "\n",
    "        evaluation = dev_mod.evaluate(dev_cols_test, dev_seqs_test)\n",
    "        \n",
    "        return dev_mod, evaluation\n",
    "    \n",
    "    dev_mod, evaluation = my_original_system()\n",
    "    print(evaluation['listener_accuracy'], evaluation['corpus_bleu'])\n",
    "# STOP COMMENT: Please do not remove this comment."
   ]
  },
  {
   "cell_type": "markdown",
   "metadata": {},
   "source": [
    "## Bakeoff [1 point]"
   ]
  },
  {
   "cell_type": "markdown",
   "metadata": {},
   "source": [
    "For the bake-off, we will use our original test set. The function you need to run for the submission is the following, which uses your `evaluate_original_system` from above:"
   ]
  },
  {
   "cell_type": "code",
   "execution_count": 57,
   "metadata": {},
   "outputs": [],
   "source": [
    "def create_bakeoff_submission(\n",
    "        trained_model,\n",
    "        output_filename='cs224u-colors-bakeoff-entry.csv'):\n",
    "    bakeoff_src_filename = os.path.join(\n",
    "        \"data\", \"colors\", \"cs224u-colors-test.csv\")\n",
    "\n",
    "    bakeoff_corpus = ColorsCorpusReader(bakeoff_src_filename)\n",
    "\n",
    "    # This code just extracts the colors and texts from the new corpus:\n",
    "    bakeoff_rawcols, bakeoff_texts = zip(*[\n",
    "        [ex.colors, ex.contents] for ex in bakeoff_corpus.read()])\n",
    "\n",
    "    # Original system function call; `trained_model` is your trained model:\n",
    "    evaluation = evaluate_original_system(\n",
    "        trained_model, bakeoff_rawcols, bakeoff_texts)\n",
    "\n",
    "    evaluation['bakeoff_text'] = bakeoff_texts\n",
    "\n",
    "    df = pd.DataFrame(evaluation)\n",
    "    df.to_csv(output_filename)"
   ]
  },
  {
   "cell_type": "code",
   "execution_count": 58,
   "metadata": {},
   "outputs": [],
   "source": [
    "# This check ensure that the following code only runs on the local environment only.\n",
    "# The following call will not be run on the autograder environment.\n",
    "if 'IS_GRADESCOPE_ENV' not in os.environ:\n",
    "    create_bakeoff_submission(dev_mod)"
   ]
  },
  {
   "cell_type": "markdown",
   "metadata": {},
   "source": [
    "This creates a file `cs224u-colors-bakeoff-entry.csv` in the current directory. That file should be uploaded as-is. Please do not change its name.\n",
    "\n",
    "Only one upload per team is permitted, and you should do no tuning of your system based on what you see in the file – you should not study that file in anyway, beyond perhaps checking that it contains what you expected it to contain. The upload function will do some additional checking to ensure that your file is well-formed.\n",
    "\n",
    "The nature of our evaluation is such that we have to release the full test set with all labels. Thus, we have to trust you not to make any use of the test set during development. Recall:\n",
    "\n",
    "1. Only one evaluation is permitted.\n",
    "1. No additional system tuning is permitted once the bake-off has started.\n",
    "\n",
    "Systems will be ranked primarily by `listener_accuracy`, but we will also consider their `corpus_bleu` scores. However, the BLEU score is just a simple check that your system is speaking some version of English that corresponds in some meaningful way to the gold descriptions, so you should concentrate on `listener_accuracy`.\n",
    "\n",
    "People who enter will receive the additional homework point, and people whose systems achieve the top score will receive an additional 0.5 points. We will test the top-performing systems ourselves, and only systems for which we can reproduce the reported results will win the extra 0.5 points.\n",
    "\n",
    "Late entries will be accepted, but they cannot earn the extra 0.5 points."
   ]
  },
  {
   "cell_type": "markdown",
   "metadata": {},
   "source": [
    "## Submission Instruction\n",
    "\n",
    "Submit the following files to gradescope submission\n",
    "\n",
    "- Please do not change the file name as described below\n",
    "- `hw_colors.ipynb` (this notebook)\n",
    "- `cs224u-colors-bakeoff-entry.csv` (bake-off output)"
   ]
  }
 ],
 "metadata": {
  "kernelspec": {
   "display_name": "nlu",
   "language": "python",
   "name": "nlu"
  },
  "language_info": {
   "codemirror_mode": {
    "name": "ipython",
    "version": 3
   },
   "file_extension": ".py",
   "mimetype": "text/x-python",
   "name": "python",
   "nbconvert_exporter": "python",
   "pygments_lexer": "ipython3",
   "version": "3.8.8"
  }
 },
 "nbformat": 4,
 "nbformat_minor": 4
}
